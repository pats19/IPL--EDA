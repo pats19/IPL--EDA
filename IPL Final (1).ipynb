{
 "cells": [
  {
   "cell_type": "code",
   "execution_count": 1,
   "id": "fbfa8f46",
   "metadata": {},
   "outputs": [],
   "source": [
    "import pandas as pd\n",
    "import numpy as np\n",
    "import matplotlib.pyplot as plt\n",
    "import seaborn as sns\n",
    "from ipywidgets import interact"
   ]
  },
  {
   "cell_type": "code",
   "execution_count": 2,
   "id": "cd5d90f4",
   "metadata": {},
   "outputs": [],
   "source": [
    "runs = pd.read_csv(r'C:\\Users\\91983\\Desktop\\PGA\\ml\\ipl csv\\Ball_by_Ball.csv')"
   ]
  },
  {
   "cell_type": "code",
   "execution_count": 3,
   "id": "208ce760",
   "metadata": {},
   "outputs": [
    {
     "name": "stdout",
     "output_type": "stream",
     "text": [
      "<class 'pandas.core.frame.DataFrame'>\n",
      "RangeIndex: 577 entries, 0 to 576\n",
      "Data columns (total 19 columns):\n",
      " #   Column               Non-Null Count  Dtype  \n",
      "---  ------               --------------  -----  \n",
      " 0   Match_Id             577 non-null    int64  \n",
      " 1   Match_Date           577 non-null    object \n",
      " 2   Team_Name_Id         577 non-null    int64  \n",
      " 3   Opponent_Team_Id     577 non-null    int64  \n",
      " 4   Season_Id            577 non-null    int64  \n",
      " 5   Venue_Name           577 non-null    object \n",
      " 6   Toss_Winner_Id       577 non-null    int64  \n",
      " 7   Toss_Decision        577 non-null    object \n",
      " 8   IS_Superover         577 non-null    int64  \n",
      " 9   IS_Result            577 non-null    int64  \n",
      " 10  Is_DuckWorthLewis    577 non-null    int64  \n",
      " 11  Win_Type             577 non-null    object \n",
      " 12  Won_By               568 non-null    float64\n",
      " 13  Match_Winner_Id      574 non-null    float64\n",
      " 14  Man_Of_The_Match_Id  574 non-null    float64\n",
      " 15  First_Umpire_Id      577 non-null    int64  \n",
      " 16  Second_Umpire_Id     577 non-null    int64  \n",
      " 17  City_Name            577 non-null    object \n",
      " 18  Host_Country         577 non-null    object \n",
      "dtypes: float64(3), int64(10), object(6)\n",
      "memory usage: 85.8+ KB\n"
     ]
    }
   ],
   "source": [
    "match =pd.read_csv(r'C:\\Users\\91983\\Desktop\\PGA\\ml\\ipl csv\\Match.csv')\n",
    "match.info()"
   ]
  },
  {
   "cell_type": "code",
   "execution_count": 4,
   "id": "9cfc3fcd",
   "metadata": {},
   "outputs": [],
   "source": [
    "players=pd.read_csv(r\"C:\\Users\\91983\\Desktop\\PGA\\ml\\ipl csv\\Player.csv\")"
   ]
  },
  {
   "cell_type": "code",
   "execution_count": 5,
   "id": "0fdad55b",
   "metadata": {},
   "outputs": [],
   "source": [
    "player_match=pd.read_csv(r\"C:\\Users\\91983\\Desktop\\PGA\\ml\\ipl csv\\Player_Match.csv\")"
   ]
  },
  {
   "cell_type": "code",
   "execution_count": 6,
   "id": "7918294d",
   "metadata": {},
   "outputs": [],
   "source": [
    "season = pd.read_csv(r'C:\\Users\\91983\\Desktop\\PGA\\ml\\ipl csv\\Season.csv')"
   ]
  },
  {
   "cell_type": "code",
   "execution_count": 7,
   "id": "bca99c5e",
   "metadata": {},
   "outputs": [],
   "source": [
    "team = pd.read_csv(r\"C:\\Users\\91983\\Desktop\\PGA\\ml\\ipl csv\\Team.csv\")"
   ]
  },
  {
   "cell_type": "raw",
   "id": "2e75ccaa",
   "metadata": {},
   "source": [
    "# Taking team and match data cleaning and preparing the data"
   ]
  },
  {
   "cell_type": "code",
   "execution_count": 8,
   "id": "0d1dba8b",
   "metadata": {},
   "outputs": [
    {
     "name": "stdout",
     "output_type": "stream",
     "text": [
      "<class 'pandas.core.frame.DataFrame'>\n",
      "RangeIndex: 13 entries, 0 to 12\n",
      "Data columns (total 3 columns):\n",
      " #   Column           Non-Null Count  Dtype \n",
      "---  ------           --------------  ----- \n",
      " 0   Team_Id          13 non-null     int64 \n",
      " 1   Team_Name        13 non-null     object\n",
      " 2   Team_Short_Code  13 non-null     object\n",
      "dtypes: int64(1), object(2)\n",
      "memory usage: 440.0+ bytes\n"
     ]
    }
   ],
   "source": [
    "#information about team data\n",
    "#no null values\n",
    "team.info()"
   ]
  },
  {
   "cell_type": "code",
   "execution_count": 9,
   "id": "d0da6e51",
   "metadata": {},
   "outputs": [
    {
     "name": "stdout",
     "output_type": "stream",
     "text": [
      "<class 'pandas.core.frame.DataFrame'>\n",
      "RangeIndex: 577 entries, 0 to 576\n",
      "Data columns (total 19 columns):\n",
      " #   Column               Non-Null Count  Dtype  \n",
      "---  ------               --------------  -----  \n",
      " 0   Match_Id             577 non-null    int64  \n",
      " 1   Match_Date           577 non-null    object \n",
      " 2   Team_Name_Id         577 non-null    int64  \n",
      " 3   Opponent_Team_Id     577 non-null    int64  \n",
      " 4   Season_Id            577 non-null    int64  \n",
      " 5   Venue_Name           577 non-null    object \n",
      " 6   Toss_Winner_Id       577 non-null    int64  \n",
      " 7   Toss_Decision        577 non-null    object \n",
      " 8   IS_Superover         577 non-null    int64  \n",
      " 9   IS_Result            577 non-null    int64  \n",
      " 10  Is_DuckWorthLewis    577 non-null    int64  \n",
      " 11  Win_Type             577 non-null    object \n",
      " 12  Won_By               568 non-null    float64\n",
      " 13  Match_Winner_Id      574 non-null    float64\n",
      " 14  Man_Of_The_Match_Id  574 non-null    float64\n",
      " 15  First_Umpire_Id      577 non-null    int64  \n",
      " 16  Second_Umpire_Id     577 non-null    int64  \n",
      " 17  City_Name            577 non-null    object \n",
      " 18  Host_Country         577 non-null    object \n",
      "dtypes: float64(3), int64(10), object(6)\n",
      "memory usage: 85.8+ KB\n"
     ]
    }
   ],
   "source": [
    "#information about match data\n",
    "#no null values\n",
    "match.info()"
   ]
  },
  {
   "cell_type": "code",
   "execution_count": 10,
   "id": "bceae625",
   "metadata": {
    "scrolled": true
   },
   "outputs": [
    {
     "data": {
      "text/plain": [
       "Index(['Team_Name_Id', 'Team_Name', 'Team_Short_Code'], dtype='object')"
      ]
     },
     "execution_count": 10,
     "metadata": {},
     "output_type": "execute_result"
    }
   ],
   "source": [
    "# Rename 'Team_Id' to 'Team_Name_Id' in team df\n",
    "team.rename(columns = {'Team_Id':'Team_Name_Id'}, inplace = True)\n",
    "team.columns"
   ]
  },
  {
   "cell_type": "code",
   "execution_count": 11,
   "id": "59529274",
   "metadata": {
    "scrolled": true
   },
   "outputs": [
    {
     "name": "stdout",
     "output_type": "stream",
     "text": [
      "<class 'pandas.core.frame.DataFrame'>\n",
      "Int64Index: 577 entries, 0 to 576\n",
      "Data columns (total 21 columns):\n",
      " #   Column               Non-Null Count  Dtype  \n",
      "---  ------               --------------  -----  \n",
      " 0   Match_Id             577 non-null    int64  \n",
      " 1   Match_Date           577 non-null    object \n",
      " 2   Team_Name_Id         577 non-null    int64  \n",
      " 3   Opponent_Team_Id     577 non-null    int64  \n",
      " 4   Season_Id            577 non-null    int64  \n",
      " 5   Venue_Name           577 non-null    object \n",
      " 6   Toss_Winner_Id       577 non-null    int64  \n",
      " 7   Toss_Decision        577 non-null    object \n",
      " 8   IS_Superover         577 non-null    int64  \n",
      " 9   IS_Result            577 non-null    int64  \n",
      " 10  Is_DuckWorthLewis    577 non-null    int64  \n",
      " 11  Win_Type             577 non-null    object \n",
      " 12  Won_By               568 non-null    float64\n",
      " 13  Match_Winner_Id      574 non-null    float64\n",
      " 14  Man_Of_The_Match_Id  574 non-null    float64\n",
      " 15  First_Umpire_Id      577 non-null    int64  \n",
      " 16  Second_Umpire_Id     577 non-null    int64  \n",
      " 17  City_Name            577 non-null    object \n",
      " 18  Host_Country         577 non-null    object \n",
      " 19  Team_Name            577 non-null    object \n",
      " 20  Team_Short_Code      577 non-null    object \n",
      "dtypes: float64(3), int64(10), object(8)\n",
      "memory usage: 99.2+ KB\n",
      "None\n"
     ]
    }
   ],
   "source": [
    "# mergeing both df on 'Team_Name_Id'\n",
    "cdf = pd.merge(match, team, on='Team_Name_Id')\n",
    "print(cdf.info())"
   ]
  },
  {
   "cell_type": "code",
   "execution_count": 12,
   "id": "fdc2aea3",
   "metadata": {},
   "outputs": [],
   "source": [
    "# columns that are not required for analysis:-\n",
    "#- match date \n",
    "#- first umpire id\n",
    "#- second umpire id\n",
    "#- team short code :- team name is given\n"
   ]
  },
  {
   "cell_type": "code",
   "execution_count": 13,
   "id": "38ad7e6d",
   "metadata": {},
   "outputs": [],
   "source": [
    "df= cdf.drop(columns =[ 'First_Umpire_Id', 'Second_Umpire_Id', 'Match_Date','Team_Short_Code'])"
   ]
  },
  {
   "cell_type": "code",
   "execution_count": 14,
   "id": "3dcd38e2",
   "metadata": {},
   "outputs": [
    {
     "name": "stdout",
     "output_type": "stream",
     "text": [
      "<class 'pandas.core.frame.DataFrame'>\n",
      "Int64Index: 577 entries, 0 to 576\n",
      "Data columns (total 17 columns):\n",
      " #   Column               Non-Null Count  Dtype  \n",
      "---  ------               --------------  -----  \n",
      " 0   Match_Id             577 non-null    int64  \n",
      " 1   Team_Name_Id         577 non-null    int64  \n",
      " 2   Opponent_Team_Id     577 non-null    int64  \n",
      " 3   Season_Id            577 non-null    int64  \n",
      " 4   Venue_Name           577 non-null    object \n",
      " 5   Toss_Winner_Id       577 non-null    int64  \n",
      " 6   Toss_Decision        577 non-null    object \n",
      " 7   IS_Superover         577 non-null    int64  \n",
      " 8   IS_Result            577 non-null    int64  \n",
      " 9   Is_DuckWorthLewis    577 non-null    int64  \n",
      " 10  Win_Type             577 non-null    object \n",
      " 11  Won_By               568 non-null    float64\n",
      " 12  Match_Winner_Id      574 non-null    float64\n",
      " 13  Man_Of_The_Match_Id  574 non-null    float64\n",
      " 14  City_Name            577 non-null    object \n",
      " 15  Host_Country         577 non-null    object \n",
      " 16  Team_Name            577 non-null    object \n",
      "dtypes: float64(3), int64(8), object(6)\n",
      "memory usage: 81.1+ KB\n"
     ]
    }
   ],
   "source": [
    "df.info()"
   ]
  },
  {
   "cell_type": "code",
   "execution_count": 15,
   "id": "805b0e95",
   "metadata": {},
   "outputs": [],
   "source": [
    "# converting int columns into obj for analysis"
   ]
  },
  {
   "cell_type": "code",
   "execution_count": 16,
   "id": "ae93deec",
   "metadata": {},
   "outputs": [
    {
     "data": {
      "text/plain": [
       "<bound method IndexOpsMixin.value_counts of 0      335987\n",
       "1      335997\n",
       "2      336001\n",
       "3      336011\n",
       "4      336017\n",
       "        ...  \n",
       "572    980954\n",
       "573    980962\n",
       "574    980984\n",
       "575    981002\n",
       "576    981010\n",
       "Name: Match_Id, Length: 577, dtype: int64>"
      ]
     },
     "execution_count": 16,
     "metadata": {},
     "output_type": "execute_result"
    }
   ],
   "source": [
    "num_cols=[col for col in df.columns if col in df.select_dtypes(\"int64\").columns]\n",
    "num_cols\n",
    "df.Match_Id.value_counts"
   ]
  },
  {
   "cell_type": "code",
   "execution_count": 17,
   "id": "cde9dd91",
   "metadata": {},
   "outputs": [
    {
     "name": "stdout",
     "output_type": "stream",
     "text": [
      "<class 'pandas.core.frame.DataFrame'>\n",
      "Int64Index: 577 entries, 0 to 576\n",
      "Data columns (total 17 columns):\n",
      " #   Column               Non-Null Count  Dtype  \n",
      "---  ------               --------------  -----  \n",
      " 0   Match_Id             577 non-null    object \n",
      " 1   Team_Name_Id         577 non-null    object \n",
      " 2   Opponent_Team_Id     577 non-null    object \n",
      " 3   Season_Id            577 non-null    object \n",
      " 4   Venue_Name           577 non-null    object \n",
      " 5   Toss_Winner_Id       577 non-null    object \n",
      " 6   Toss_Decision        577 non-null    object \n",
      " 7   IS_Superover         577 non-null    object \n",
      " 8   IS_Result            577 non-null    object \n",
      " 9   Is_DuckWorthLewis    577 non-null    object \n",
      " 10  Win_Type             577 non-null    object \n",
      " 11  Won_By               568 non-null    float64\n",
      " 12  Match_Winner_Id      574 non-null    float64\n",
      " 13  Man_Of_The_Match_Id  574 non-null    float64\n",
      " 14  City_Name            577 non-null    object \n",
      " 15  Host_Country         577 non-null    object \n",
      " 16  Team_Name            577 non-null    object \n",
      "dtypes: float64(3), object(14)\n",
      "memory usage: 81.1+ KB\n"
     ]
    }
   ],
   "source": [
    "for i in num_cols:\n",
    "    df[i] = df[i].apply(str)\n",
    "df.info()"
   ]
  },
  {
   "cell_type": "code",
   "execution_count": 18,
   "id": "e8a2b5f1",
   "metadata": {},
   "outputs": [],
   "source": [
    "df[\"Match_Id\"] = df[\"Match_Id\"].apply(int)"
   ]
  },
  {
   "cell_type": "code",
   "execution_count": 19,
   "id": "551ce485",
   "metadata": {},
   "outputs": [],
   "source": [
    "df[\"Won_By\"] = df['Won_By'].apply(float)"
   ]
  },
  {
   "cell_type": "code",
   "execution_count": 20,
   "id": "128ad805",
   "metadata": {},
   "outputs": [
    {
     "name": "stderr",
     "output_type": "stream",
     "text": [
      "C:\\Users\\91983\\anaconda3\\lib\\site-packages\\seaborn\\_decorators.py:36: FutureWarning: Pass the following variable as a keyword arg: x. From version 0.12, the only valid positional argument will be `data`, and passing other arguments without an explicit keyword will result in an error or misinterpretation.\n",
      "  warnings.warn(\n"
     ]
    },
    {
     "data": {
      "image/png": "[encoded data removed]",
      "text/plain": [
       "<Figure size 792x576 with 1 Axes>"
      ]
     },
     "metadata": {
      "needs_background": "light"
     },
     "output_type": "display_data"
    }
   ],
   "source": [
    "plt.figure(figsize = (11,8))\n",
    "sns.countplot(df[\"Team_Name\"],order = df.Team_Name.value_counts().index )\n",
    "plt.xticks(rotation=90)\n",
    "plt.xlabel(\"Various teams which featured in the IPL so far\")\n",
    "plt.ylabel(\"Number of match\")\n",
    "plt.title(\"Number of matches played by IPL Teams\");"
   ]
  },
  {
   "cell_type": "raw",
   "id": "1e6c595d",
   "metadata": {},
   "source": [
    "The above graph clearly indicates that Royal Challenges Bangalore played most number of matches and Kochi Tuskers Kerela played the least number of matches in 9 seasons of IPL"
   ]
  },
  {
   "cell_type": "code",
   "execution_count": 21,
   "id": "0551c823",
   "metadata": {},
   "outputs": [
    {
     "name": "stderr",
     "output_type": "stream",
     "text": [
      "C:\\Users\\91983\\anaconda3\\lib\\site-packages\\seaborn\\_decorators.py:36: FutureWarning: Pass the following variable as a keyword arg: x. From version 0.12, the only valid positional argument will be `data`, and passing other arguments without an explicit keyword will result in an error or misinterpretation.\n",
      "  warnings.warn(\n"
     ]
    },
    {
     "data": {
      "image/png": "[encoded data removed]",
      "text/plain": [
       "<Figure size 792x576 with 1 Axes>"
      ]
     },
     "metadata": {
      "needs_background": "light"
     },
     "output_type": "display_data"
    }
   ],
   "source": [
    "plt.figure(figsize = (11,8))\n",
    "sns.countplot(df[\"City_Name\"],order = df.City_Name.value_counts().index)\n",
    "plt.xticks(rotation=90)\n",
    "plt.ylabel(\"Number of matches hosted\")\n",
    "plt.xlabel(\"Name of Cities where IPL got hosted\")\n",
    "plt.title(\"IPL Matches hosted in various cities\");"
   ]
  },
  {
   "cell_type": "raw",
   "id": "39f5d910",
   "metadata": {},
   "source": [
    "The above graph clearly indicated that Mumbai got the maximum number of matches hosted while Kanpur and Indore got least number of matches to host"
   ]
  },
  {
   "cell_type": "code",
   "execution_count": 22,
   "id": "999b2720",
   "metadata": {
    "scrolled": false
   },
   "outputs": [
    {
     "name": "stderr",
     "output_type": "stream",
     "text": [
      "C:\\Users\\91983\\anaconda3\\lib\\site-packages\\seaborn\\_decorators.py:36: FutureWarning: Pass the following variable as a keyword arg: x. From version 0.12, the only valid positional argument will be `data`, and passing other arguments without an explicit keyword will result in an error or misinterpretation.\n",
      "  warnings.warn(\n"
     ]
    },
    {
     "data": {
      "image/png": "[encoded data removed]",
      "text/plain": [
       "<Figure size 792x576 with 1 Axes>"
      ]
     },
     "metadata": {
      "needs_background": "light"
     },
     "output_type": "display_data"
    }
   ],
   "source": [
    "plt.figure(figsize = (11,8))\n",
    "sns.countplot(df[\"Win_Type\"],order = df.Win_Type.value_counts().index)\n",
    "plt.xticks(rotation=90)\n",
    "plt.ylabel(\"count of win types\")\n",
    "plt.xlabel(\"types of win\")\n",
    "plt.title(\"winning type count of Matches\");"
   ]
  },
  {
   "cell_type": "code",
   "execution_count": 23,
   "id": "9ef0f794",
   "metadata": {},
   "outputs": [],
   "source": [
    "tied_count = df[df.Win_Type == \"Tie\"].count()['Win_Type']\n",
    "no_result = df[df.Win_Type == \"No Result\"].count()['Win_Type']"
   ]
  },
  {
   "cell_type": "code",
   "execution_count": 24,
   "id": "0fa87361",
   "metadata": {},
   "outputs": [
    {
     "name": "stdout",
     "output_type": "stream",
     "text": [
      "Tied Matches in IPL =  6\n",
      "no result Matches in IPL =  3\n"
     ]
    }
   ],
   "source": [
    "print(\"Tied Matches in IPL = \", tied_count)\n",
    "print(\"no result Matches in IPL = \", no_result)"
   ]
  },
  {
   "cell_type": "code",
   "execution_count": 25,
   "id": "35d06822",
   "metadata": {},
   "outputs": [
    {
     "data": {
      "text/plain": [
       "Index(['Match_Id', 'Team_Name_Id', 'Opponent_Team_Id', 'Season_Id',\n",
       "       'Venue_Name', 'Toss_Winner_Id', 'Toss_Decision', 'IS_Superover',\n",
       "       'IS_Result', 'Is_DuckWorthLewis', 'Win_Type', 'Won_By',\n",
       "       'Match_Winner_Id', 'Man_Of_The_Match_Id', 'City_Name', 'Host_Country',\n",
       "       'Team_Name'],\n",
       "      dtype='object')"
      ]
     },
     "execution_count": 25,
     "metadata": {},
     "output_type": "execute_result"
    }
   ],
   "source": [
    "df.columns"
   ]
  },
  {
   "cell_type": "raw",
   "id": "1b3aebab",
   "metadata": {},
   "source": [
    "finding the percentage of matches won by batting first and batting second "
   ]
  },
  {
   "cell_type": "code",
   "execution_count": 26,
   "id": "08bab6a6",
   "metadata": {},
   "outputs": [],
   "source": [
    "# Count the number of matches won by batting second \n",
    "# win type == wickets means that first batting\n",
    "first_batting= df[df[\"Win_Type\"] == \"by wickets\"].count()['Win_Type']\n",
    "\n",
    "# Count the number of matches won by batting first\n",
    "\n",
    "second_batting= df[df[\"Win_Type\"] == \"by runs\"].count()['Win_Type']"
   ]
  },
  {
   "cell_type": "code",
   "execution_count": 27,
   "id": "0a3b5073",
   "metadata": {},
   "outputs": [
    {
     "data": {
      "image/png": "[encoded data removed]",
      "text/plain": [
       "<Figure size 792x576 with 1 Axes>"
      ]
     },
     "metadata": {},
     "output_type": "display_data"
    }
   ],
   "source": [
    "plt.figure(figsize = (11,8))\n",
    "plt.pie([first_batting, second_batting], labels = [\"first\",\"second\"],autopct=\"%1.1f%%\") \n",
    "plt.title(\"percentage of matches won by batting first and batting second \");"
   ]
  },
  {
   "cell_type": "markdown",
   "id": "757ee06d",
   "metadata": {},
   "source": [
    "probability of getting a tied match or no result\n",
    "-pof tie = totaltie/totalwintype\n",
    "-pof nres = totnre/totalwt"
   ]
  },
  {
   "cell_type": "code",
   "execution_count": 28,
   "id": "223c119f",
   "metadata": {},
   "outputs": [],
   "source": [
    "p_of_tied_match = df[df.Win_Type == \"Tie\"].count()['Win_Type'] / df.count()['Win_Type']\n",
    "p_of_no_result = df[df.Win_Type == \"No Result\"].count()['Win_Type'] / df.count()['Win_Type']"
   ]
  },
  {
   "cell_type": "code",
   "execution_count": 29,
   "id": "f01f8c29",
   "metadata": {
    "scrolled": true
   },
   "outputs": [
    {
     "name": "stdout",
     "output_type": "stream",
     "text": [
      "Probability of a match getting tied is -  0.010398613518197574\n",
      "Probability of a match having no result is -  0.005199306759098787\n"
     ]
    }
   ],
   "source": [
    "print(\"Probability of a match getting tied is - \", p_of_tied_match)\n",
    "print(\"Probability of a match having no result is - \", p_of_no_result)"
   ]
  },
  {
   "cell_type": "markdown",
   "id": "42e22fb9",
   "metadata": {},
   "source": [
    "probability of winning the match batting first and second"
   ]
  },
  {
   "cell_type": "code",
   "execution_count": 30,
   "id": "327d9128",
   "metadata": {},
   "outputs": [],
   "source": [
    "batting_first = df[df[\"Win_Type\"] == \"by runs\"].count()['Win_Type'] / df['Win_Type'].count()"
   ]
  },
  {
   "cell_type": "code",
   "execution_count": 31,
   "id": "b17a2f5f",
   "metadata": {},
   "outputs": [],
   "source": [
    "batting_second = df[df[\"Win_Type\"] == \"by wickets\"].count()[\"Win_Type\"] / df['Win_Type'].count()"
   ]
  },
  {
   "cell_type": "code",
   "execution_count": 32,
   "id": "1191a1ba",
   "metadata": {},
   "outputs": [
    {
     "name": "stdout",
     "output_type": "stream",
     "text": [
      "Probability of winning a match by batting first -  0.45233968804159447\n",
      "Probability of winning a match by batting second -  0.5320623916811091\n"
     ]
    }
   ],
   "source": [
    "print(\"Probability of winning a match by batting first - \", batting_first)\n",
    "print(\"Probability of winning a match by batting second - \", batting_second)"
   ]
  },
  {
   "cell_type": "code",
   "execution_count": 33,
   "id": "f1a9c4ae",
   "metadata": {},
   "outputs": [
    {
     "name": "stderr",
     "output_type": "stream",
     "text": [
      "C:\\Users\\91983\\AppData\\Local\\Temp/ipykernel_5200/2717991110.py:2: MatplotlibDeprecationWarning: normalize=None does not normalize if the sum is less than 1 but this behavior is deprecated since 3.3 until two minor releases later. After the deprecation period the default value will be normalize=True. To prevent normalization pass normalize=False \n",
      "  plt.pie([batting_first, batting_second], labels = [\"first\",\"second\"],autopct=\"%1.1f%%\")\n"
     ]
    },
    {
     "data": {
      "text/plain": [
       "Text(0.5, 1.0, 'probability of matches won by batting first and batting second')"
      ]
     },
     "execution_count": 33,
     "metadata": {},
     "output_type": "execute_result"
    },
    {
     "data": {
      "image/png": "[encoded data removed]",
      "text/plain": [
       "<Figure size 792x576 with 1 Axes>"
      ]
     },
     "metadata": {},
     "output_type": "display_data"
    }
   ],
   "source": [
    "plt.figure(figsize = (11,8))\n",
    "plt.pie([batting_first, batting_second], labels = [\"first\",\"second\"],autopct=\"%1.1f%%\")\n",
    "plt.title(\"probability of matches won by batting first and batting second\")"
   ]
  },
  {
   "cell_type": "raw",
   "id": "b3a86eb8",
   "metadata": {},
   "source": [
    "probability of rcb winning a match by batting first and second\n"
   ]
  },
  {
   "cell_type": "code",
   "execution_count": 34,
   "id": "92febec7",
   "metadata": {},
   "outputs": [
    {
     "name": "stdout",
     "output_type": "stream",
     "text": [
      "<class 'pandas.core.frame.DataFrame'>\n",
      "Int64Index: 577 entries, 0 to 576\n",
      "Data columns (total 17 columns):\n",
      " #   Column               Non-Null Count  Dtype  \n",
      "---  ------               --------------  -----  \n",
      " 0   Match_Id             577 non-null    int64  \n",
      " 1   Team_Name_Id         577 non-null    object \n",
      " 2   Opponent_Team_Id     577 non-null    object \n",
      " 3   Season_Id            577 non-null    object \n",
      " 4   Venue_Name           577 non-null    object \n",
      " 5   Toss_Winner_Id       577 non-null    object \n",
      " 6   Toss_Decision        577 non-null    object \n",
      " 7   IS_Superover         577 non-null    object \n",
      " 8   IS_Result            577 non-null    object \n",
      " 9   Is_DuckWorthLewis    577 non-null    object \n",
      " 10  Win_Type             577 non-null    object \n",
      " 11  Won_By               568 non-null    float64\n",
      " 12  Match_Winner_Id      574 non-null    float64\n",
      " 13  Man_Of_The_Match_Id  574 non-null    float64\n",
      " 14  City_Name            577 non-null    object \n",
      " 15  Host_Country         577 non-null    object \n",
      " 16  Team_Name            577 non-null    object \n",
      "dtypes: float64(3), int64(1), object(13)\n",
      "memory usage: 97.3+ KB\n"
     ]
    }
   ],
   "source": [
    "df.info()"
   ]
  },
  {
   "cell_type": "code",
   "execution_count": 35,
   "id": "1e8fdb70",
   "metadata": {},
   "outputs": [
    {
     "data": {
      "text/plain": [
       "41"
      ]
     },
     "execution_count": 35,
     "metadata": {},
     "output_type": "execute_result"
    }
   ],
   "source": [
    "b= df[(df[\"Win_Type\"] == \"by wickets\") & (df[\"Team_Name\"] == \"Royal Challengers Bangalore\")]\n",
    "len(b)"
   ]
  },
  {
   "cell_type": "code",
   "execution_count": 36,
   "id": "80ae2960",
   "metadata": {},
   "outputs": [],
   "source": [
    "a= df[(df[\"Win_Type\"] == \"by runs\") & (df[\"Team_Name\"] == \"Royal Challengers Bangalore\")]\n",
    "rcb_first = len(a) / df['Win_Type'].count()\n",
    "b= df[(df[\"Win_Type\"] == \"by wickets\") & (df[\"Team_Name\"] == \"Royal Challengers Bangalore\")]\n",
    "rcb_second = len(b) / df[\"Win_Type\"].count()\n"
   ]
  },
  {
   "cell_type": "code",
   "execution_count": 37,
   "id": "e8022bc3",
   "metadata": {},
   "outputs": [
    {
     "name": "stderr",
     "output_type": "stream",
     "text": [
      "C:\\Users\\91983\\AppData\\Local\\Temp/ipykernel_5200/1818472505.py:2: MatplotlibDeprecationWarning: normalize=None does not normalize if the sum is less than 1 but this behavior is deprecated since 3.3 until two minor releases later. After the deprecation period the default value will be normalize=True. To prevent normalization pass normalize=False \n",
      "  plt.pie([rcb_first, rcb_second], labels = [\"first\",\"second\"],autopct=\"%1.1f%%\")\n"
     ]
    },
    {
     "data": {
      "text/plain": [
       "Text(0.5, 1.0, 'probability of rcb winning by batting first and batting second')"
      ]
     },
     "execution_count": 37,
     "metadata": {},
     "output_type": "execute_result"
    },
    {
     "data": {
      "image/png": "[encoded data removed]",
      "text/plain": [
       "<Figure size 792x576 with 1 Axes>"
      ]
     },
     "metadata": {},
     "output_type": "display_data"
    }
   ],
   "source": [
    "plt.figure(figsize = (11,8))\n",
    "plt.pie([rcb_first, rcb_second], labels = [\"first\",\"second\"],autopct=\"%1.1f%%\")\n",
    "plt.title(\"probability of rcb winning by batting first and batting second\")"
   ]
  }
 ],
 "metadata": {
  "kernelspec": {
   "display_name": "Python 3 (ipykernel)",
   "language": "python",
   "name": "python3"
  },
  "language_info": {
   "codemirror_mode": {
    "name": "ipython",
    "version": 3
   },
   "file_extension": ".py",
   "mimetype": "text/x-python",
   "name": "python",
   "nbconvert_exporter": "python",
   "pygments_lexer": "ipython3",
   "version": "3.9.7"
  }
 },
 "nbformat": 4,
 "nbformat_minor": 5
}
